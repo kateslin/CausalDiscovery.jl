{
 "cells": [
  {
   "cell_type": "code",
   "execution_count": 1,
   "metadata": {},
   "outputs": [
    {
     "name": "stderr",
     "output_type": "stream",
     "text": [
      "┌ Info: CUDAdrv.jl failed to initialize, GPU functionality unavailable (set JULIA_CUDA_SILENT or JULIA_CUDA_VERBOSE to silence or expand this message)\n",
      "└ @ CUDAdrv /Users/francismccann/.julia/packages/CUDAdrv/b1mvw/src/CUDAdrv.jl:67\n"
     ]
    }
   ],
   "source": [
    "using Flux\n",
    "using Distributions\n",
    "using Flux, Flux.Data.MNIST, Statistics\n",
    "using Flux: onehotbatch, onecold, crossentropy, throttle\n",
    "using Base.Iterators: repeated\n",
    "# using CUDAapi"
   ]
  },
  {
   "cell_type": "code",
   "execution_count": 64,
   "metadata": {},
   "outputs": [
    {
     "data": {
      "text/plain": [
       "(3, 500)"
      ]
     },
     "execution_count": 64,
     "metadata": {},
     "output_type": "execute_result"
    }
   ],
   "source": [
    "# if has_cuda()\n",
    "#     @info \"CUDA is on\"\n",
    "#     import CuArrays\n",
    "#     CuArrays.allowscalar(false)\n",
    "priors=zeros(Float64,(3,500))\n",
    "size(priors)"
   ]
  },
  {
   "cell_type": "code",
   "execution_count": 68,
   "metadata": {},
   "outputs": [
    {
     "data": {
      "text/plain": [
       "fake_OED (generic function with 1 method)"
      ]
     },
     "execution_count": 68,
     "metadata": {},
     "output_type": "execute_result"
    }
   ],
   "source": [
    "## Generate data\n",
    "\n",
    "priors=zeros(Float64,(3,500))\n",
    "\n",
    "## this is an arbitrary OED estimator\n",
    "function fake_OED(prior)\n",
    "    p1,p2,p3=prior\n",
    "    max_val=max(p1,p2,p3)\n",
    "    if max_val==p1\n",
    "        return 7\n",
    "    elseif max_val==p2\n",
    "        return 0\n",
    "    else\n",
    "        return 5\n",
    "    end\n",
    "end"
   ]
  },
  {
   "cell_type": "code",
   "execution_count": 69,
   "metadata": {},
   "outputs": [],
   "source": [
    "for idx in 1:500\n",
    "    first_prior=rand(Uniform(0.0,0.99),1)[1]\n",
    "    second_prior=rand(Uniform(0.0,1-first_prior),1)[1]\n",
    "    third_prior=1.0-first_prior-second_prior\n",
    "    prior=[first_prior,second_prior,third_prior]\n",
    "    priors[:,idx]=prior\n",
    "end\n"
   ]
  },
  {
   "cell_type": "code",
   "execution_count": 70,
   "metadata": {},
   "outputs": [
    {
     "data": {
      "text/plain": [
       "Dict{Int64,String} with 16 entries:\n",
       "  2  => \"HHHT\"\n",
       "  16 => \"TTTT\"\n",
       "  11 => \"THHT\"\n",
       "  7  => \"TTHH\"\n",
       "  9  => \"THTH\"\n",
       "  10 => \"HTTH\"\n",
       "  8  => \"HTHT\"\n",
       "  6  => \"HHTT\"\n",
       "  4  => \"HTHH\"\n",
       "  3  => \"HHTH\"\n",
       "  5  => \"THHH\"\n",
       "  13 => \"TTHT\"\n",
       "  14 => \"THTT\"\n",
       "  15 => \"HTTT\"\n",
       "  12 => \"TTTH\"\n",
       "  1  => \"HHHH\""
      ]
     },
     "execution_count": 70,
     "metadata": {},
     "output_type": "execute_result"
    }
   ],
   "source": [
    "## Create mapping from integer to experiment\n",
    "int_to_experiment=Dict(\n",
    "    1 => \"HHHH\", \n",
    "    2 => \"HHHT\", \n",
    "    3 => \"HHTH\",\n",
    "    4 => \"HTHH\",\n",
    "    5 => \"THHH\",\n",
    "    6 => \"HHTT\",\n",
    "    7 => \"TTHH\",\n",
    "    8 => \"HTHT\",\n",
    "    9 => \"THTH\",\n",
    "    10 => \"HTTH\",\n",
    "    11 => \"THHT\",\n",
    "    12 => \"TTTH\",\n",
    "    13 => \"TTHT\",\n",
    "    14 => \"THTT\",\n",
    "    15 => \"HTTT\",\n",
    "    16 => \"TTTT\"\n",
    ")\n"
   ]
  },
  {
   "cell_type": "code",
   "execution_count": 80,
   "metadata": {},
   "outputs": [
    {
     "data": {
      "text/plain": [
       "(500,)"
      ]
     },
     "execution_count": 80,
     "metadata": {},
     "output_type": "execute_result"
    }
   ],
   "source": [
    "size(labels)"
   ]
  },
  {
   "cell_type": "code",
   "execution_count": 79,
   "metadata": {},
   "outputs": [],
   "source": [
    "labels=Any[]\n",
    "for prior in eachcol(priors)\n",
    "    push!(labels,fake_OED(prior))\n",
    "end"
   ]
  },
  {
   "cell_type": "code",
   "execution_count": 94,
   "metadata": {},
   "outputs": [
    {
     "data": {
      "text/plain": [
       "Chain(Dense(3, 16, relu), Dense(16, 32, relu), Dense(32, 16, relu), softmax)"
      ]
     },
     "execution_count": 94,
     "metadata": {},
     "output_type": "execute_result"
    }
   ],
   "source": [
    "model=Chain(\n",
    "Dense(3,16,relu),\n",
    "Dense(16,32,relu),\n",
    "Dense(32,16,relu),\n",
    "    softmax)#|> gpu\n",
    "\n",
    "\n"
   ]
  },
  {
   "cell_type": "code",
   "execution_count": 95,
   "metadata": {},
   "outputs": [
    {
     "data": {
      "text/plain": [
       "accuracy (generic function with 1 method)"
      ]
     },
     "execution_count": 95,
     "metadata": {},
     "output_type": "execute_result"
    }
   ],
   "source": [
    "loss(x, y) = crossentropy(model(x), y)\n",
    "accuracy(x, y) = mean(onecold(cpu(model(x))) .== onecold(cpu(y)))"
   ]
  },
  {
   "cell_type": "code",
   "execution_count": 96,
   "metadata": {},
   "outputs": [
    {
     "data": {
      "text/plain": [
       "ADAM(0.001, (0.9, 0.999), IdDict{Any,Any}())"
      ]
     },
     "execution_count": 96,
     "metadata": {},
     "output_type": "execute_result"
    }
   ],
   "source": [
    "Y=onehotbatch(labels2,[0,1,2,3,4,5,6,7,8,9,10,11,12,13,14,15])|> gpu\n",
    "X=priors #|> gpu\n",
    "# X=priors\n",
    "# dataset=zip(X,Y)\n",
    "dataset=repeated((X,Y),1000)\n",
    "evalcb=() -> @show (loss(X,Y))\n",
    "opt=ADAM()\n"
   ]
  },
  {
   "cell_type": "code",
   "execution_count": 97,
   "metadata": {},
   "outputs": [
    {
     "name": "stdout",
     "output_type": "stream",
     "text": [
      "loss(X, Y) = 2.7491734f0\n"
     ]
    }
   ],
   "source": [
    "ps=Flux.params(model)\n",
    "Flux.train!(loss, ps, dataset, opt, cb = throttle(evalcb, 10))\n"
   ]
  },
  {
   "cell_type": "code",
   "execution_count": 98,
   "metadata": {},
   "outputs": [
    {
     "name": "stdout",
     "output_type": "stream",
     "text": [
      "accuracy(X, Y) = 0.582\n"
     ]
    },
    {
     "data": {
      "text/plain": [
       "0.582"
      ]
     },
     "execution_count": 98,
     "metadata": {},
     "output_type": "execute_result"
    }
   ],
   "source": [
    "@show accuracy(X, Y)"
   ]
  }
 ],
 "metadata": {
  "kernelspec": {
   "display_name": "Julia 1.3.1",
   "language": "julia",
   "name": "julia-1.3"
  },
  "language_info": {
   "file_extension": ".jl",
   "mimetype": "application/julia",
   "name": "julia",
   "version": "1.3.1"
  }
 },
 "nbformat": 4,
 "nbformat_minor": 2
}
