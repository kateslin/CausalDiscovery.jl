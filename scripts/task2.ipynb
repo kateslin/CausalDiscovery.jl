{
 "cells": [
  {
   "cell_type": "code",
   "execution_count": null,
   "metadata": {},
   "outputs": [],
   "source": [
    "using Flux\n",
    "using Distributions\n",
    "using Flux, Flux.Data.MNIST, Statistics\n",
    "using Flux: onehotbatch, onecold, crossentropy, throttle\n",
    "using Base.Iterators: repeated\n",
    "# using CUDAapi"
   ]
  },
  {
   "cell_type": "code",
   "execution_count": null,
   "metadata": {},
   "outputs": [],
   "source": [
    "# if has_cuda()\n",
    "#     @info \"CUDA is on\"\n",
    "#     import CuArrays\n",
    "#     CuArrays.allowscalar(false)\n",
    "priors=zeros(Float64,(3,500))\n",
    "size(priors)"
   ]
  },
  {
   "cell_type": "code",
   "execution_count": null,
   "metadata": {},
   "outputs": [],
   "source": [
    "## Generate data\n",
    "\n",
    "priors=zeros(Float64,(3,500))\n",
    "\n",
    "## this is an arbitrary OED estimator\n",
    "function fake_OED(prior)\n",
    "    p1,p2,p3=prior\n",
    "    max_val=max(p1,p2,p3)\n",
    "    if max_val==p1\n",
    "        return 7\n",
    "    elseif max_val==p2\n",
    "        return 0\n",
    "    else\n",
    "        return 5\n",
    "    end\n",
    "end"
   ]
  },
  {
   "cell_type": "code",
   "execution_count": null,
   "metadata": {},
   "outputs": [],
   "source": [
    "for idx in 1:500\n",
    "    first_prior=rand(Uniform(0.0,0.99),1)[1]\n",
    "    second_prior=rand(Uniform(0.0,1-first_prior),1)[1]\n",
    "    third_prior=1.0-first_prior-second_prior\n",
    "    prior=[first_prior,second_prior,third_prior]\n",
    "    priors[:,idx]=prior\n",
    "end\n"
   ]
  },
  {
   "cell_type": "code",
   "execution_count": null,
   "metadata": {},
   "outputs": [],
   "source": [
    "## Create mapping from integer to experiment\n",
    "int_to_experiment=Dict(\n",
    "    1 => \"HHHH\", \n",
    "    2 => \"HHHT\", \n",
    "    3 => \"HHTH\",\n",
    "    4 => \"HTHH\",\n",
    "    5 => \"THHH\",\n",
    "    6 => \"HHTT\",\n",
    "    7 => \"TTHH\",\n",
    "    8 => \"HTHT\",\n",
    "    9 => \"THTH\",\n",
    "    10 => \"HTTH\",\n",
    "    11 => \"THHT\",\n",
    "    12 => \"TTTH\",\n",
    "    13 => \"TTHT\",\n",
    "    14 => \"THTT\",\n",
    "    15 => \"HTTT\",\n",
    "    16 => \"TTTT\"\n",
    ")\n"
   ]
  },
  {
   "cell_type": "code",
   "execution_count": null,
   "metadata": {},
   "outputs": [],
   "source": [
    "size(labels)"
   ]
  },
  {
   "cell_type": "code",
   "execution_count": null,
   "metadata": {},
   "outputs": [],
   "source": [
    "labels=Any[]\n",
    "for prior in eachcol(priors)\n",
    "    push!(labels,fake_OED(prior))\n",
    "end"
   ]
  },
  {
   "cell_type": "code",
   "execution_count": null,
   "metadata": {},
   "outputs": [],
   "source": [
    "model=Chain(\n",
    "Dense(3,16,relu),\n",
    "Dense(16,32,relu),\n",
    "Dense(32,16,relu),\n",
    "    softmax)#|> gpu\n",
    "\n",
    "\n"
   ]
  },
  {
   "cell_type": "code",
   "execution_count": null,
   "metadata": {},
   "outputs": [],
   "source": [
    "loss(x, y) = crossentropy(model(x), y)\n",
    "accuracy(x, y) = mean(onecold(cpu(model(x))) .== onecold(cpu(y)))"
   ]
  },
  {
   "cell_type": "code",
   "execution_count": null,
   "metadata": {},
   "outputs": [],
   "source": [
    "Y=onehotbatch(labels,[0,1,2,3,4,5,6,7,8,9,10,11,12,13,14,15])|> gpu\n",
    "X=priors #|> gpu\n",
    "\n",
    "dataset=repeated((X[:,0:400],Y[:,0:400]),500)\n",
    "evalcb=() -> @show (loss(X,Y))\n",
    "opt=ADAM()\n"
   ]
  },
  {
   "cell_type": "code",
   "execution_count": null,
   "metadata": {},
   "outputs": [],
   "source": [
    "ps=Flux.params(model)\n",
    "Flux.train!(loss, ps, dataset, opt, cb = throttle(evalcb, 10))\n"
   ]
  },
  {
   "cell_type": "code",
   "execution_count": null,
   "metadata": {},
   "outputs": [],
   "source": [
    "@show accuracy(X, Y)"
   ]
  },
  {
   "cell_type": "code",
   "execution_count": null,
   "metadata": {},
   "outputs": [],
   "source": [
    "size(X[:,1--400])"
   ]
  },
  {
   "cell_type": "code",
   "execution_count": null,
   "metadata": {},
   "outputs": [],
   "source": [
    "function generate_data(n_samples,epochs)\n",
    "for idx in 1:n_samples\n",
    "    first_prior=rand(Uniform(0.0,0.99),1)[1]\n",
    "    second_prior=rand(Uniform(0.0,1-first_prior),1)[1]\n",
    "    third_prior=1.0-first_prior-second_prior\n",
    "    prior=[first_prior,second_prior,third_prior]\n",
    "    priors[:,idx]=prior\n",
    "end\n",
    "labels=Any[]\n",
    "for prior in eachcol(priors)\n",
    "    push!(labels,fake_OED(prior))\n",
    "end\n",
    "Y=onehotbatch(labels,[0,1,2,3,4,5,6,7,8,9,10,11,12,13,14,15])|> gpu\n",
    "X=priors |> gpu\n",
    "return repeated((X,Y),epochs),X,Y\n",
    "end\n",
    "data,t1,t2=generate_data(500,1)"
   ]
  },
  {
   "cell_type": "code",
   "execution_count": null,
   "metadata": {},
   "outputs": [],
   "source": [
    "t1\n"
   ]
  },
  {
   "cell_type": "code",
   "execution_count": 10,
   "metadata": {},
   "outputs": [
    {
     "name": "stdout",
     "output_type": "stream",
     "text": [
      "loss(train_x, train_y) = 2.8001204f0\n",
      "loss(train_x, train_y) = 0.7482724f0\n",
      "Training accuracy:\n",
      "accuracy(train_x, train_y) = 0.78625\n",
      "Testing accuracy:\n",
      "accuracy(test_x, test_y) = 0.76\n"
     ]
    },
    {
     "data": {
      "text/plain": [
       "0.76"
      ]
     },
     "execution_count": 10,
     "metadata": {},
     "output_type": "execute_result"
    }
   ],
   "source": [
    "using Flux\n",
    "using Distributions\n",
    "using Flux, Flux.Data.MNIST, Statistics\n",
    "using Flux: onehotbatch, onecold, crossentropy, throttle\n",
    "using Base.Iterators: repeated\n",
    "\n",
    "function fake_OED(prior)\n",
    "    p1,p2,p3=prior\n",
    "    max_val=max(p1,p2,p3)\n",
    "    if max_val==p1\n",
    "        return 7\n",
    "    elseif max_val==p2\n",
    "        return 0\n",
    "    else\n",
    "        return 5\n",
    "    end\n",
    "end\n",
    "\n",
    "##mapping from int to sequence \n",
    "int_to_experiment=Dict(\n",
    "    1 => \"HHHH\", \n",
    "    2 => \"HHHT\", \n",
    "    3 => \"HHTH\",\n",
    "    4 => \"HTHH\",\n",
    "    5 => \"THHH\",\n",
    "    6 => \"HHTT\",\n",
    "    7 => \"TTHH\",\n",
    "    8 => \"HTHT\",\n",
    "    9 => \"THTH\",\n",
    "    10 => \"HTTH\",\n",
    "    11 => \"THHT\",\n",
    "    12 => \"TTTH\",\n",
    "    13 => \"TTHT\",\n",
    "    14 => \"THTT\",\n",
    "    15 => \"HTTT\",\n",
    "    16 => \"TTTT\"\n",
    ")\n",
    "\n",
    "##Generate fake priors, in the future learn these with a NN\\\n",
    "function generate_data(n_samples,epochs)\n",
    "    priors=zeros(Float64,(3,n_samples))\n",
    "    for idx in 1:n_samples\n",
    "        first_prior=rand(Uniform(0.0,0.99),1)[1]\n",
    "        second_prior=rand(Uniform(0.0,1-first_prior),1)[1]\n",
    "        third_prior=1.0-first_prior-second_prior\n",
    "        prior=[first_prior,second_prior,third_prior]\n",
    "        priors[:,idx]=prior\n",
    "    end\n",
    "    labels=Any[]\n",
    "    for prior in eachcol(priors)\n",
    "        push!(labels,fake_OED(prior))\n",
    "    end\n",
    "    Y=onehotbatch(labels,[0,1,2,3,4,5,6,7,8,9,10,11,12,13,14,15])|> gpu\n",
    "    X=priors |> gpu\n",
    "    return repeated((X,Y),epochs),X,Y\n",
    "end\n",
    "\n",
    "model=Chain(\n",
    "Dense(3,16,relu),\n",
    "Dense(16,32,relu),\n",
    "Dense(32,16,relu),\n",
    "    softmax)|> gpu\n",
    "\n",
    "loss(x, y) = crossentropy(model(x), y)\n",
    "accuracy(x, y) = mean(onecold(cpu(model(x))) .== onecold(cpu(y)))\n",
    "\n",
    "train_dataset,train_x,train_y=generate_data(8000,500)\n",
    "test_dataset,test_x,test_y=generate_data(100,1)\n",
    "evalcb=() -> @show (loss(train_x,train_y))\n",
    "opt=ADAM()\n",
    "\n",
    "ps=Flux.params(model)\n",
    "Flux.train!(loss, ps, train_dataset, opt, cb = throttle(evalcb, 10))\n",
    "println(\"Training accuracy:\")\n",
    "@show accuracy(train_x, train_y)\n",
    "println(\"Testing accuracy:\")\n",
    "@show accuracy(test_x, test_y)"
   ]
  },
  {
   "cell_type": "code",
   "execution_count": null,
   "metadata": {},
   "outputs": [],
   "source": []
  },
  {
   "cell_type": "code",
   "execution_count": null,
   "metadata": {},
   "outputs": [],
   "source": []
  }
 ],
 "metadata": {
  "kernelspec": {
   "display_name": "Julia 1.3.1",
   "language": "julia",
   "name": "julia-1.3"
  },
  "language_info": {
   "file_extension": ".jl",
   "mimetype": "application/julia",
   "name": "julia",
   "version": "1.3.1"
  }
 },
 "nbformat": 4,
 "nbformat_minor": 2
}
